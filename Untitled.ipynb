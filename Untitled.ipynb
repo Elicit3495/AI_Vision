{
 "cells": [
  {
   "cell_type": "markdown",
   "id": "949560a2",
   "metadata": {},
   "source": [
    "### Object Detection"
   ]
  },
  {
   "cell_type": "code",
   "execution_count": 12,
   "id": "70281c8f",
   "metadata": {},
   "outputs": [],
   "source": [
    "import numpy as np\n",
    "import pandas as pd\n",
    "import sklearn\n",
    "import matplotlib.pyplot as plt\n",
    "from utils import *"
   ]
  },
  {
   "cell_type": "code",
   "execution_count": 13,
   "id": "ec918d45",
   "metadata": {},
   "outputs": [],
   "source": [
    "from sklearn.neural_network import MLPClassifier\n",
    "from sklearn.datasets import fetch_openml\n"
   ]
  },
  {
   "cell_type": "markdown",
   "id": "a98f099b",
   "metadata": {},
   "source": [
    "### Neural network classifier to classify whether an image is a cat"
   ]
  },
  {
   "cell_type": "code",
   "execution_count": 16,
   "id": "04bb0c11",
   "metadata": {},
   "outputs": [],
   "source": [
    "train_x_orig, train_y, test_x_orig, test_y, classes = load_data()"
   ]
  },
  {
   "cell_type": "code",
   "execution_count": 19,
   "id": "029299d8",
   "metadata": {},
   "outputs": [
    {
     "data": {
      "text/plain": [
       "((209, 64, 64, 3), (1, 209))"
      ]
     },
     "execution_count": 19,
     "metadata": {},
     "output_type": "execute_result"
    }
   ],
   "source": [
    "train_x_orig.shape, train_y.shape"
   ]
  },
  {
   "cell_type": "code",
   "execution_count": 23,
   "id": "745908e8",
   "metadata": {},
   "outputs": [
    {
     "name": "stdout",
     "output_type": "stream",
     "text": [
      "not a cat\n"
     ]
    },
    {
     "data": {
      "image/png": "[encoded data removed]",
      "text/plain": [
       "<Figure size 640x480 with 1 Axes>"
      ]
     },
     "metadata": {},
     "output_type": "display_data"
    }
   ],
   "source": [
    "# Example of a cat picture\n",
    "index = 208\n",
    "plt.imshow(train_x_orig[index])\n",
    "print('not a cat')"
   ]
  },
  {
   "cell_type": "code",
   "execution_count": 24,
   "id": "8d24022b",
   "metadata": {},
   "outputs": [],
   "source": [
    "height = train_x_orig.shape[1]\n",
    "width = train_x_orig.shape[2]"
   ]
  },
  {
   "cell_type": "markdown",
   "id": "efb31f30",
   "metadata": {},
   "source": [
    "### Flatten"
   ]
  },
  {
   "cell_type": "code",
   "execution_count": 28,
   "id": "f9bcd3dc",
   "metadata": {},
   "outputs": [],
   "source": [
    "train_x_flatten = train_x_orig.reshape(train_x_orig.shape[0], -1)\n",
    "test_x_flatten = test_x_orig.reshape(test_x_orig.shape[0], -1)"
   ]
  },
  {
   "cell_type": "markdown",
   "id": "14cf82cb",
   "metadata": {},
   "source": [
    "### Normalization"
   ]
  },
  {
   "cell_type": "code",
   "execution_count": 29,
   "id": "8c65e2d4",
   "metadata": {},
   "outputs": [],
   "source": [
    "train_x = train_x_flatten/255\n",
    "test_x = test_x_flatten/255"
   ]
  },
  {
   "cell_type": "code",
   "execution_count": 30,
   "id": "8faffb7d",
   "metadata": {},
   "outputs": [
    {
     "ename": "NameError",
     "evalue": "name 'LogisticRegression' is not defined",
     "output_type": "error",
     "traceback": [
      "\u001b[1;31m---------------------------------------------------------------------------\u001b[0m",
      "\u001b[1;31mNameError\u001b[0m                                 Traceback (most recent call last)",
      "Cell \u001b[1;32mIn[30], line 5\u001b[0m\n\u001b[0;32m      2\u001b[0m k \u001b[38;5;241m=\u001b[39m train_y\u001b[38;5;241m.\u001b[39mflatten()\n\u001b[0;32m      3\u001b[0m \u001b[38;5;66;03m##CORRECT ANSWER##\u001b[39;00m\n\u001b[1;32m----> 5\u001b[0m logreg \u001b[38;5;241m=\u001b[39m \u001b[43mLogisticRegression\u001b[49m(max_iter\u001b[38;5;241m=\u001b[39m\u001b[38;5;241m500\u001b[39m)\n\u001b[0;32m      6\u001b[0m logreg\u001b[38;5;241m.\u001b[39mfit(train_x, train_y\u001b[38;5;241m.\u001b[39mflatten())\n\u001b[0;32m      7\u001b[0m \u001b[38;5;66;03m# print('Training accuracy: ', round(logreg.score(train_x, train_y.flatten()),2))\u001b[39;00m\n\u001b[0;32m      8\u001b[0m \u001b[38;5;66;03m# print('Testing accuracy: ', round(logreg.score(test_x, test_y.flatten()),2))\u001b[39;00m\n",
      "\u001b[1;31mNameError\u001b[0m: name 'LogisticRegression' is not defined"
     ]
    }
   ],
   "source": [
    "# write your code here\n",
    "k = train_y.flatten()\n",
    "##CORRECT ANSWER##\n",
    "\n",
    "logreg = LogisticRegression(max_iter=500)\n",
    "logreg.fit(train_x, train_y.flatten())\n",
    "# print('Training accuracy: ', round(logreg.score(train_x, train_y.flatten()),2))\n",
    "# print('Testing accuracy: ', round(logreg.score(test_x, test_y.flatten()),2))\n",
    "k.shape #209,\n",
    "train_x.shape #209, 12288\n",
    "##CORRECT ANSWER##"
   ]
  },
  {
   "cell_type": "code",
   "execution_count": null,
   "id": "4b1ff29e",
   "metadata": {},
   "outputs": [],
   "source": []
  }
 ],
 "metadata": {
  "kernelspec": {
   "display_name": "Python 3 (ipykernel)",
   "language": "python",
   "name": "python3"
  },
  "language_info": {
   "codemirror_mode": {
    "name": "ipython",
    "version": 3
   },
   "file_extension": ".py",
   "mimetype": "text/x-python",
   "name": "python",
   "nbconvert_exporter": "python",
   "pygments_lexer": "ipython3",
   "version": "3.8.16"
  }
 },
 "nbformat": 4,
 "nbformat_minor": 5
}
